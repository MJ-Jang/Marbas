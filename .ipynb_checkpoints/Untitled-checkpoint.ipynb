{
 "cells": [
  {
   "cell_type": "code",
   "execution_count": null,
   "metadata": {},
   "outputs": [],
   "source": [
    "from pynori.korean_analyzer import KoreanAnalyzer\n",
    "nori = KoreanAnalyzer(decompound_mode='MIXED',\n",
    "                      discard_punctuation=True,\n",
    "                      output_unknown_unigrams=True,\n",
    "                      pos_filter=False,\n",
    "                      stop_tags=['JKS', 'JKB', 'VV', 'EF'])\n",
    "\n",
    "input_text = \"아빠가 방에 들어가신다.\"\n",
    "result = nori.do_analysis(input_text)\n",
    "print(result)"
   ]
  },
  {
   "cell_type": "code",
   "execution_count": null,
   "metadata": {},
   "outputs": [],
   "source": []
  },
  {
   "cell_type": "code",
   "execution_count": null,
   "metadata": {},
   "outputs": [],
   "source": []
  },
  {
   "cell_type": "code",
   "execution_count": null,
   "metadata": {},
   "outputs": [],
   "source": []
  },
  {
   "cell_type": "code",
   "execution_count": null,
   "metadata": {},
   "outputs": [],
   "source": []
  },
  {
   "cell_type": "code",
   "execution_count": null,
   "metadata": {},
   "outputs": [],
   "source": [
    "from pynori.korean_analyzer import KoreanAnalyzer\n",
    "nori = KoreanAnalyzer(decompound_mode='MIXED',\n",
    "                      infl_decompound_mode='NONE',\n",
    "                      discard_punctuation=True,\n",
    "                      output_unknown_unigrams=True,\n",
    "                      pos_filter=False,\n",
    "                      stop_tags=['JKS', 'JKB', 'VV', 'EF'])\n",
    "\n",
    "input_text = \"냉장고 들어가신다.\"\n",
    "result = nori.do_analysis(input_text)\n",
    "print(result)"
   ]
  },
  {
   "cell_type": "code",
   "execution_count": null,
   "metadata": {},
   "outputs": [],
   "source": []
  },
  {
   "cell_type": "code",
   "execution_count": null,
   "metadata": {},
   "outputs": [],
   "source": []
  },
  {
   "cell_type": "code",
   "execution_count": null,
   "metadata": {},
   "outputs": [],
   "source": [
    "from pynori.korean_analyzer import KoreanAnalyzer\n",
    "nori = KoreanAnalyzer(decompound_mode='NONE',\n",
    "                      infl_decompound_mode='MIXED',\n",
    "                      discard_punctuation=True,\n",
    "                      output_unknown_unigrams=True,\n",
    "                      pos_filter=False,\n",
    "                      stop_tags=['JKS', 'JKB', 'VV', 'EF'])\n",
    "\n",
    "input_text = \"냉장고 들어가신다.\"\n",
    "result = nori.do_analysis(input_text)\n",
    "print(result)"
   ]
  },
  {
   "cell_type": "code",
   "execution_count": null,
   "metadata": {},
   "outputs": [],
   "source": [
    "if 'NNG+VV' in 'NNG':\n",
    "    print('hi')"
   ]
  },
  {
   "cell_type": "code",
   "execution_count": null,
   "metadata": {},
   "outputs": [],
   "source": []
  },
  {
   "cell_type": "code",
   "execution_count": null,
   "metadata": {},
   "outputs": [],
   "source": []
  },
  {
   "cell_type": "code",
   "execution_count": 1,
   "metadata": {},
   "outputs": [
    {
     "name": "stdout",
     "output_type": "stream",
     "text": [
      "{'termAtt': ['가벼운', '냉장', '고'], 'offsetAtt': [(0, 3), (4, 6), (6, 7)], 'posLengthAtt': [1, 1, 1], 'posTypeAtt': ['INFL', 'MORP', 'MORP'], 'posTagAtt': ['VA+ETM', 'NNG', 'NNG'], 'dictTypeAtt': ['KN', 'KN', 'KN']}\n"
     ]
    }
   ],
   "source": [
    "from pynori.korean_analyzer import KoreanAnalyzer\n",
    "nori = KoreanAnalyzer(pos_filter=True, stop_tags=['ETM'], decompound_mode=DcpdMode.MIXED, infl_decompound_mode=DcpdMode.MIXED)\n",
    "input_text = \"가벼운 냉장고\"\n",
    "result = nori.do_analysis(input_text)\n",
    "print(result)"
   ]
  },
  {
   "cell_type": "code",
   "execution_count": null,
   "metadata": {},
   "outputs": [],
   "source": []
  },
  {
   "cell_type": "code",
   "execution_count": null,
   "metadata": {},
   "outputs": [],
   "source": []
  },
  {
   "cell_type": "code",
   "execution_count": null,
   "metadata": {},
   "outputs": [],
   "source": []
  },
  {
   "cell_type": "code",
   "execution_count": null,
   "metadata": {},
   "outputs": [],
   "source": [
    "a = [True] * 10"
   ]
  },
  {
   "cell_type": "code",
   "execution_count": null,
   "metadata": {},
   "outputs": [],
   "source": [
    "a[0] = False"
   ]
  },
  {
   "cell_type": "code",
   "execution_count": null,
   "metadata": {
    "scrolled": true
   },
   "outputs": [],
   "source": [
    "a"
   ]
  },
  {
   "cell_type": "code",
   "execution_count": null,
   "metadata": {},
   "outputs": [],
   "source": []
  },
  {
   "cell_type": "code",
   "execution_count": null,
   "metadata": {},
   "outputs": [],
   "source": []
  },
  {
   "cell_type": "code",
   "execution_count": null,
   "metadata": {},
   "outputs": [],
   "source": []
  },
  {
   "cell_type": "code",
   "execution_count": null,
   "metadata": {},
   "outputs": [],
   "source": []
  },
  {
   "cell_type": "code",
   "execution_count": null,
   "metadata": {},
   "outputs": [],
   "source": []
  },
  {
   "cell_type": "code",
   "execution_count": null,
   "metadata": {},
   "outputs": [],
   "source": []
  }
 ],
 "metadata": {
  "kernelspec": {
   "display_name": "Python 3",
   "language": "python",
   "name": "python3"
  },
  "language_info": {
   "codemirror_mode": {
    "name": "ipython",
    "version": 3
   },
   "file_extension": ".py",
   "mimetype": "text/x-python",
   "name": "python",
   "nbconvert_exporter": "python",
   "pygments_lexer": "ipython3",
   "version": "3.7.4"
  }
 },
 "nbformat": 4,
 "nbformat_minor": 2
}
