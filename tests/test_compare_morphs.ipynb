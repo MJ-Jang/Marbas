{
 "cells": [
  {
   "cell_type": "markdown",
   "metadata": {},
   "source": [
    "## 테스트 데이터 로드"
   ]
  },
  {
   "cell_type": "code",
   "execution_count": 1,
   "metadata": {},
   "outputs": [],
   "source": [
    "import csv\n",
    "def smart_split(in_str):\n",
    "    # input:   '\"aaaa\",32,\"bbbb\",\"ccc,ddd\"'\n",
    "    # output:  ['aaaa', '32', 'bbbb', 'ccc,ddd']\n",
    "    splited_arr = ['{}'.format(x) for x in list(csv.reader([in_str], delimiter=',', quotechar='\"'))[0]]\n",
    "    return splited_arr\n",
    "\n",
    "import pickle\n",
    "def save_pkl(data, name):   # name: ‘..._pkl'\n",
    "    fp = open(name, 'wb')\n",
    "    pickle.dump(data, fp)\n",
    "    fp.close()\n",
    "def load_pkl(name):         # name: ‘..._pkl'\n",
    "    fp = open(name, 'rb')\n",
    "    return pickle.load(fp)"
   ]
  },
  {
   "cell_type": "code",
   "execution_count": 2,
   "metadata": {},
   "outputs": [],
   "source": [
    "# import random\n",
    "\n",
    "# i = 0\n",
    "# data = []\n",
    "# rand_list = [0] * 100\n",
    "# rand_list[0] = 1\n",
    "\n",
    "# with open('/Users/gritmind/assets/src_data/ws/191008_products.csv', 'r') as rf:\n",
    "#     for line in rf:\n",
    "#         try:\n",
    "#             line = smart_split(line)[1]\n",
    "#         except:\n",
    "#             continue\n",
    "            \n",
    "#         if random.choice(rand_list) == 1:\n",
    "            \n",
    "#             data.append(line)\n",
    "\n",
    "#             i += 1\n",
    "            \n",
    "#         if i == 1000000:\n",
    "#             break\n",
    "            \n",
    "# print(len(data))\n",
    "# save_pkl(data, 'data.pkl')"
   ]
  },
  {
   "cell_type": "code",
   "execution_count": 3,
   "metadata": {},
   "outputs": [],
   "source": [
    "data = load_pkl('data.pkl')"
   ]
  },
  {
   "cell_type": "markdown",
   "metadata": {},
   "source": [
    "## 분석기 성능 비교"
   ]
  },
  {
   "cell_type": "code",
   "execution_count": 4,
   "metadata": {},
   "outputs": [],
   "source": [
    "from konlpy.tag import Hannanum\n",
    "from konlpy.tag import Kkma\n",
    "from konlpy.tag import Komoran\n",
    "from konlpy.tag import Okt\n",
    "from pynori.korean_analyzer import KoreanAnalyzer\n",
    "\n",
    "hannanum = Hannanum()\n",
    "kkma = Kkma()\n",
    "komoran = Komoran()\n",
    "okt = Okt()\n",
    "nori = KoreanAnalyzer(decompound_mode='MIXED',\n",
    "                      discard_punctuation=True,\n",
    "                      output_unknown_unigrams=True,\n",
    "                      pos_filter=False,\n",
    "                      stop_tags=['JKS', 'JKB', 'VV', 'EF'])"
   ]
  },
  {
   "cell_type": "code",
   "execution_count": 10,
   "metadata": {},
   "outputs": [],
   "source": [
    "from datetime import datetime\n",
    "import time\n",
    "\n",
    "def analyzer_exe_time(sample_data, analyzer_obj, use_nori):\n",
    "    start_time = time.time()\n",
    "    for text in sample_data:\n",
    "        if use_nori:\n",
    "            analyzer_obj.do_analysis(text)\n",
    "        else:\n",
    "            analyzer_obj.pos(text)\n",
    "    return time.time() - start_time"
   ]
  },
  {
   "cell_type": "code",
   "execution_count": 29,
   "metadata": {},
   "outputs": [
    {
     "name": "stdout",
     "output_type": "stream",
     "text": [
      "# number of sample data:  1\n",
      "\n",
      "\n",
      "Hanna:\t0.0013859272003173828\n",
      "Kkma:\t0.0024421215057373047\n",
      "Okt:\t0.0005130767822265625\n",
      "Nori:\t0.002794981002807617\n",
      "\n",
      "\n",
      "# number of sample data:  10\n",
      "\n",
      "\n",
      "Hanna:\t0.034677982330322266\n",
      "Kkma:\t0.07546067237854004\n",
      "Okt:\t0.011886119842529297\n",
      "Nori:\t0.0965571403503418\n",
      "\n",
      "\n",
      "# number of sample data:  100\n",
      "\n",
      "\n",
      "Hanna:\t0.28960275650024414\n",
      "Kkma:\t0.7048020362854004\n",
      "Okt:\t0.09319186210632324\n",
      "Nori:\t0.7220721244812012\n",
      "\n",
      "\n",
      "# number of sample data:  1000\n",
      "\n",
      "\n",
      "Hanna:\t2.5906150341033936\n",
      "Kkma:\t6.380319356918335\n",
      "Okt:\t0.9402952194213867\n",
      "Nori:\t6.466601133346558\n",
      "\n",
      "\n",
      "# number of sample data:  10000\n",
      "\n",
      "\n",
      "Hanna:\t27.611809730529785\n",
      "Kkma:\t77.73616790771484\n",
      "Okt:\t11.43677806854248\n",
      "Nori:\t68.20249319076538\n",
      "\n",
      "\n",
      "# number of sample data:  100000\n",
      "\n",
      "\n",
      "Hanna:\t262.72305488586426\n",
      "Kkma:\t699.7041671276093\n",
      "Okt:\t95.79926490783691\n",
      "Nori:\t672.8327238559723\n",
      "\n",
      "\n"
     ]
    }
   ],
   "source": [
    "for idx in [1, 10, 100, 1000, 10000, 100000]:\n",
    "    \n",
    "    #for analyzer in [hannanum, kkma, komoran, okt, nori]\n",
    "    \n",
    "\n",
    "    sample_data = data[:idx]\n",
    "    print('# number of sample data: ', len(sample_data))\n",
    "    \n",
    "    \n",
    "    print('\\n')\n",
    "    \n",
    "    # Hannanum\n",
    "    start_time = time.time()\n",
    "    for x in sample_data:\n",
    "        hannanum.pos(x)\n",
    "    print('Hanna:\\t{}'.format(time.time() - start_time))\n",
    "        \n",
    "    # Kkma\n",
    "    start_time = time.time()\n",
    "    for x in sample_data:\n",
    "        kkma.pos(x)\n",
    "    print('Kkma:\\t{}'.format(time.time() - start_time))\n",
    "        \n",
    "    # Okt\n",
    "    start_time = time.time()\n",
    "    for x in sample_data:\n",
    "        okt.pos(x)\n",
    "    print('Okt:\\t{}'.format(time.time() - start_time))\n",
    "    \n",
    "    # Nori\n",
    "    start_time = time.time()\n",
    "    for x in sample_data:\n",
    "        nori.do_analysis(x)\n",
    "    print('Nori:\\t{}'.format(time.time() - start_time))\n",
    "    \n",
    "    print('\\n')\n",
    "    \n",
    "    #break"
   ]
  },
  {
   "cell_type": "code",
   "execution_count": null,
   "metadata": {},
   "outputs": [],
   "source": []
  }
 ],
 "metadata": {
  "kernelspec": {
   "display_name": "Python 3",
   "language": "python",
   "name": "python3"
  },
  "language_info": {
   "codemirror_mode": {
    "name": "ipython",
    "version": 3
   },
   "file_extension": ".py",
   "mimetype": "text/x-python",
   "name": "python",
   "nbconvert_exporter": "python",
   "pygments_lexer": "ipython3",
   "version": "3.7.4"
  }
 },
 "nbformat": 4,
 "nbformat_minor": 2
}
